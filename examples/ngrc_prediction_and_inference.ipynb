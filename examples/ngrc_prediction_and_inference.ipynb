{
 "cells": [
  {
   "cell_type": "code",
   "execution_count": 4,
   "metadata": {},
   "outputs": [
    {
     "ename": "ModuleNotFoundError",
     "evalue": "No module named 'scan'",
     "output_type": "error",
     "traceback": [
      "\u001b[0;31m---------------------------------------------------------------------------\u001b[0m",
      "\u001b[0;31mModuleNotFoundError\u001b[0m                       Traceback (most recent call last)",
      "\u001b[1;32m/home/koeg_da/scan/examples/ngrc_prediction_and_inference.ipynb Zelle 1\u001b[0m line \u001b[0;36m3\n\u001b[1;32m      <a href='vscode-notebook-cell://wsl%2Bubuntu/home/koeg_da/scan/examples/ngrc_prediction_and_inference.ipynb#W0sdnNjb2RlLXJlbW90ZQ%3D%3D?line=0'>1</a>\u001b[0m \u001b[39mimport\u001b[39;00m \u001b[39mnumpy\u001b[39;00m \u001b[39mas\u001b[39;00m \u001b[39mnp\u001b[39;00m\n\u001b[1;32m      <a href='vscode-notebook-cell://wsl%2Bubuntu/home/koeg_da/scan/examples/ngrc_prediction_and_inference.ipynb#W0sdnNjb2RlLXJlbW90ZQ%3D%3D?line=1'>2</a>\u001b[0m \u001b[39mimport\u001b[39;00m \u001b[39mmatplotlib\u001b[39;00m\u001b[39m.\u001b[39;00m\u001b[39mpyplot\u001b[39;00m \u001b[39mas\u001b[39;00m \u001b[39mplt\u001b[39;00m\n\u001b[0;32m----> <a href='vscode-notebook-cell://wsl%2Bubuntu/home/koeg_da/scan/examples/ngrc_prediction_and_inference.ipynb#W0sdnNjb2RlLXJlbW90ZQ%3D%3D?line=2'>3</a>\u001b[0m \u001b[39mimport\u001b[39;00m \u001b[39mscan\u001b[39;00m\n",
      "\u001b[0;31mModuleNotFoundError\u001b[0m: No module named 'scan'"
     ]
    }
   ],
   "source": [
    "import numpy as np\n",
    "import matplotlib.pyplot as plt\n",
    "import scan"
   ]
  },
  {
   "cell_type": "markdown",
   "metadata": {},
   "source": [
    "### Lorenz Prediction"
   ]
  },
  {
   "cell_type": "code",
   "execution_count": 1,
   "metadata": {},
   "outputs": [
    {
     "ename": "NameError",
     "evalue": "name 'np' is not defined",
     "output_type": "error",
     "traceback": [
      "\u001b[0;31m---------------------------------------------------------------------------\u001b[0m",
      "\u001b[0;31mNameError\u001b[0m                                 Traceback (most recent call last)",
      "\u001b[1;32m/home/koeg_da/scan/examples/ngrc_prediction_and_inference.ipynb Zelle 3\u001b[0m line \u001b[0;36m3\n\u001b[1;32m      <a href='vscode-notebook-cell://wsl%2Bubuntu/home/koeg_da/scan/examples/ngrc_prediction_and_inference.ipynb#W1sdnNjb2RlLXJlbW90ZQ%3D%3D?line=0'>1</a>\u001b[0m simulation_time_steps \u001b[39m=\u001b[39m \u001b[39m50000\u001b[39m\n\u001b[0;32m----> <a href='vscode-notebook-cell://wsl%2Bubuntu/home/koeg_da/scan/examples/ngrc_prediction_and_inference.ipynb#W1sdnNjb2RlLXJlbW90ZQ%3D%3D?line=2'>3</a>\u001b[0m starting_point \u001b[39m=\u001b[39m np\u001b[39m.\u001b[39marray([\u001b[39m-\u001b[39m\u001b[39m14.03020521\u001b[39m, \u001b[39m-\u001b[39m\u001b[39m20.88693127\u001b[39m, \u001b[39m25.53545\u001b[39m])\n\u001b[1;32m      <a href='vscode-notebook-cell://wsl%2Bubuntu/home/koeg_da/scan/examples/ngrc_prediction_and_inference.ipynb#W1sdnNjb2RlLXJlbW90ZQ%3D%3D?line=3'>4</a>\u001b[0m sim_data \u001b[39m=\u001b[39m scan\u001b[39m.\u001b[39msimulations\u001b[39m.\u001b[39msimulate_trajectory(\n\u001b[1;32m      <a href='vscode-notebook-cell://wsl%2Bubuntu/home/koeg_da/scan/examples/ngrc_prediction_and_inference.ipynb#W1sdnNjb2RlLXJlbW90ZQ%3D%3D?line=4'>5</a>\u001b[0m     sys_flag\u001b[39m=\u001b[39m\u001b[39m'\u001b[39m\u001b[39mlorenz\u001b[39m\u001b[39m'\u001b[39m, dt\u001b[39m=\u001b[39m\u001b[39m2e-2\u001b[39m, time_steps\u001b[39m=\u001b[39msimulation_time_steps,\n\u001b[1;32m      <a href='vscode-notebook-cell://wsl%2Bubuntu/home/koeg_da/scan/examples/ngrc_prediction_and_inference.ipynb#W1sdnNjb2RlLXJlbW90ZQ%3D%3D?line=5'>6</a>\u001b[0m     starting_point\u001b[39m=\u001b[39mstarting_point)\n",
      "\u001b[0;31mNameError\u001b[0m: name 'np' is not defined"
     ]
    }
   ],
   "source": [
    "simulation_time_steps = 50000\n",
    "\n",
    "starting_point = np.array([-14.03020521, -20.88693127, 25.53545])\n",
    "sim_data = scan.simulations.simulate_trajectory(\n",
    "    sys_flag='lorenz', dt=2e-2, time_steps=simulation_time_steps,\n",
    "    starting_point=starting_point)"
   ]
  },
  {
   "cell_type": "code",
   "execution_count": null,
   "metadata": {},
   "outputs": [],
   "source": [
    "train_steps = 400\n",
    "train_data = sim_data[:train_steps]\n",
    "\n",
    "ng_rc = scan.ngrc.NG_RC(regression_parameter=9*10**-2,\n",
    "      k=1,\n",
    "      s=1,\n",
    "      orders=[1,2],\n",
    "      mode='differences'\n",
    "    )\n",
    "\n",
    "ng_rc.fit(train_data)\n",
    "lorenz_prediction = ng_rc.predict(steps=2000,starting_series=sim_data[-ng_rc._k*ng_rc._s:])"
   ]
  },
  {
   "cell_type": "code",
   "execution_count": null,
   "metadata": {},
   "outputs": [],
   "source": [
    "fig1 = plt.figure(figsize=(8, 5), dpi=100)\n",
    "\n",
    "ax1 = fig1.add_subplot(111, projection='3d')\n",
    "ax1.plot(sim_data[:train_steps,0], sim_data[:train_steps,1], sim_data[:train_steps,2],\n",
    "        alpha=1, color='red', label='Lorenz training data')\n",
    "ax1.plot(lorenz_prediction[:,0], lorenz_prediction[:,1], lorenz_prediction[:,2],\n",
    "        alpha=.8, color='green', label='NG-RC Lorenz prediction')\n",
    "\n",
    "plt.legend()\n",
    "plt.show()"
   ]
  },
  {
   "cell_type": "markdown",
   "metadata": {},
   "source": [
    "### Lorenz Inference"
   ]
  },
  {
   "cell_type": "code",
   "execution_count": null,
   "metadata": {},
   "outputs": [],
   "source": [
    "simulation_time_steps = 10000\n",
    "\n",
    "starting_point = np.array([-14.03020521, -20.88693127, 25.53545])\n",
    "sim_data = scan.simulations.simulate_trajectory(\n",
    "    sys_flag='lorenz', dt=5e-2, time_steps=simulation_time_steps,\n",
    "    starting_point=starting_point)\n",
    "\n",
    "x_y_train_data = sim_data[:,:-1]\n",
    "z_target_data = sim_data[:,-1]"
   ]
  },
  {
   "cell_type": "code",
   "execution_count": null,
   "metadata": {},
   "outputs": [],
   "source": [
    "train_steps = 400\n",
    "train_data = x_y_train_data[:train_steps]\n",
    "target_data = z_target_data[:train_steps]\n",
    "\n",
    "test_data = sim_data[:,:-1]\n",
    "\n",
    "ng_rc = scan.ngrc.NG_RC(regression_parameter=0.001,\n",
    "      k=4,\n",
    "      s=5,\n",
    "      orders=[1,2],\n",
    "      mode='inference',\n",
    "    )\n",
    "\n",
    "ng_rc.fit(train_data,y_target=target_data)\n",
    "lorenz_inference=ng_rc.inference(data=test_data)\n"
   ]
  },
  {
   "cell_type": "code",
   "execution_count": null,
   "metadata": {},
   "outputs": [],
   "source": [
    "warm_up_time = (ng_rc._k-1)*ng_rc._s+1\n",
    "plt.plot(np.arange(0,simulation_time_steps),z_target_data,label='Lorenz z-axis data')\n",
    "plt.plot(np.arange(warm_up_time,simulation_time_steps),lorenz_inference,label='NG-RC inference')\n",
    "plt.axvline(x = train_steps,color='green',label = 'train steps',ls = '--')\n",
    "\n",
    "plt.legend()\n",
    "plt.show()"
   ]
  },
  {
   "cell_type": "markdown",
   "metadata": {},
   "source": []
  }
 ],
 "metadata": {
  "kernelspec": {
   "display_name": "scan",
   "language": "python",
   "name": "python3"
  },
  "language_info": {
   "codemirror_mode": {
    "name": "ipython",
    "version": 3
   },
   "file_extension": ".py",
   "mimetype": "text/x-python",
   "name": "python",
   "nbconvert_exporter": "python",
   "pygments_lexer": "ipython3",
   "version": "3.9.18"
  }
 },
 "nbformat": 4,
 "nbformat_minor": 2
}
