{
 "cells": [
  {
   "cell_type": "markdown",
   "source": [
    "### Training and Prediction Example\n",
    "\n",
    "Training and prediction explained in more detail.  \n",
    "Demonstrates how to predict the evolution of a system state that does not \n",
    "directly follow the training data."
   ],
   "metadata": {
    "collapsed": false
   }
  },
  {
   "cell_type": "markdown",
   "source": [
    "Import packages, create an ESN object"
   ],
   "metadata": {
    "collapsed": false
   }
  },
  {
   "cell_type": "code",
   "execution_count": null,
   "outputs": [],
   "source": [
    "import numpy as np\n",
    "import matplotlib.pyplot as plt\n",
    "import scan\n",
    "\n",
    "esn = scan.ESNWrapper()"
   ],
   "metadata": {
    "collapsed": false,
    "pycharm": {
     "name": "#%% \n"
    }
   }
  },
  {
   "cell_type": "markdown",
   "source": [
    "simulate some data"
   ],
   "metadata": {
    "collapsed": false
   }
  },
  {
   "cell_type": "code",
   "execution_count": null,
   "outputs": [],
   "source": [
    "starting_point = np.array([-14.03020521, -20.88693127, 25.53545])\n",
    "sim_data = scan.simulations.Lorenz63(dt=2e-2).simulate(time_steps=20000, starting_point=starting_point)"
   ],
   "metadata": {
    "collapsed": false,
    "pycharm": {
     "name": "#%%\n"
    }
   }
  },
  {
   "cell_type": "markdown",
   "source": [
    "and create the internal network"
   ],
   "metadata": {
    "collapsed": false
   }
  },
  {
   "cell_type": "code",
   "execution_count": null,
   "outputs": [],
   "source": [
    "esn.create_network()"
   ],
   "metadata": {
    "collapsed": false,
    "pycharm": {
     "name": "#%% \n"
    }
   }
  },
  {
   "cell_type": "markdown",
   "source": [
    "For this example, let's use the same number of time steps for the training as in the [minimal example](minimal_example.ipynb) before"
   ],
   "metadata": {
    "collapsed": false
   }
  },
  {
   "cell_type": "code",
   "execution_count": null,
   "outputs": [],
   "source": [
    "train_sync_steps = 400\n",
    "train_steps = 4000"
   ],
   "metadata": {
    "collapsed": false,
    "pycharm": {
     "name": "#%% \n"
    }
   }
  },
  {
   "cell_type": "markdown",
   "source": [
    "Let's cut the input data accordingly"
   ],
   "metadata": {
    "collapsed": false
   }
  },
  {
   "cell_type": "code",
   "execution_count": null,
   "outputs": [],
   "source": [
    "x_train = sim_data[: train_sync_steps + train_steps]"
   ],
   "metadata": {
    "collapsed": false,
    "pycharm": {
     "name": "#%% \n"
    }
   }
  },
  {
   "cell_type": "markdown",
   "source": [
    "And plug it in the train() method"
   ],
   "metadata": {
    "collapsed": false
   }
  },
  {
   "cell_type": "code",
   "execution_count": null,
   "outputs": [],
   "source": [
    "esn.train(x_train=sim_data, sync_steps=train_sync_steps)"
   ],
   "metadata": {
    "collapsed": false,
    "pycharm": {
     "name": "#%% \n"
    }
   }
  },
  {
   "cell_type": "markdown",
   "source": [
    "Now that the reservoir is trained, we want to predict the system evolution not\n",
    "directly after the training data (after 4400 time steps of simulated data) but instead sometime later.\n",
    "Let's say we want to predict the evolution after 10000 time steps instead."
   ],
   "metadata": {
    "collapsed": false
   }
  },
  {
   "cell_type": "code",
   "execution_count": null,
   "outputs": [],
   "source": [
    "shift = 10000\n",
    "x_pred = sim_data[shift:]"
   ],
   "metadata": {
    "collapsed": false,
    "pycharm": {
     "name": "#%% \n"
    }
   }
  },
  {
   "cell_type": "markdown",
   "source": [
    "Due to this disconnect, we must synchronize the internal reservoir states with\n",
    "the system again before we can use it to predict anything.\n",
    "Let's again synchronize for 400 steps and predict for 500"
   ],
   "metadata": {
    "collapsed": false
   }
  },
  {
   "cell_type": "code",
   "execution_count": null,
   "outputs": [],
   "source": [
    "pred_sync_steps = 400\n",
    "pred_steps = 500\n",
    "y_pred, y_test = esn.predict(x_pred=x_pred, sync_steps=pred_sync_steps, pred_steps=pred_steps)"
   ],
   "metadata": {
    "collapsed": false,
    "pycharm": {
     "name": "#%% \n"
    }
   }
  },
  {
   "cell_type": "markdown",
   "source": [
    "Plot the prediction"
   ],
   "metadata": {
    "collapsed": false
   }
  },
  {
   "cell_type": "code",
   "execution_count": null,
   "outputs": [],
   "source": [
    "fig1 = plt.figure(figsize=(9, 6), dpi=300)\n",
    "ax1 = fig1.add_subplot(1, 1, 1)\n",
    "ax1.plot(y_test[:, 0], color=\"blue\", label=\"simulation\")\n",
    "ax1.plot(y_pred[:, 0], color=\"orange\", linestyle=\"--\", label=\"prediction\")\n",
    "\n",
    "ax1.set_xlabel(\"time steps\")\n",
    "ax1.set_ylabel(\"x\")\n",
    "ax1.set_title(\"X-Coordinates of Simulation and Prediction\")\n",
    "plt.legend()\n",
    "plt.show()"
   ],
   "metadata": {
    "collapsed": false,
    "pycharm": {
     "name": "#%% \n"
    }
   }
  },
  {
   "cell_type": "markdown",
   "source": [
    "Note that the prediction in the plot above does, of course, not start at time \n",
    "step 0 of the simulated data.  \n",
    "To make clear what range of time steps we are actually looking at in the plots,\n",
    "let's shift the time-steps-axis accordingly.\n",
    "\n",
    "First, note that the prediction starts AFTER the synchronization, i.e. from the \n",
    "initial point \n",
    "\n",
    "> x_pred[pred_sync_steps + 1]\n",
    "\n",
    "which we can prove via:"
   ],
   "metadata": {
    "collapsed": false
   }
  },
  {
   "cell_type": "code",
   "execution_count": null,
   "outputs": [],
   "source": [
    "np.array_equal(x_pred[pred_sync_steps + 1], y_test[0])"
   ],
   "metadata": {
    "collapsed": false,
    "pycharm": {
     "name": "#%%\n"
    }
   }
  },
  {
   "cell_type": "markdown",
   "source": [
    "This shift by 1 must always be the case as the predictions _y_ are the reservoir \n",
    "output after one prediction step, which necessarily increments the time by one \n",
    "step:\n",
    "\n",
    "> x[t] -> RC prediction step -> y[t]\n",
    "\n",
    "i.e. the input x[t] is used to calculate the output y[t] and hence, when comparing them to the underlying simulated data, the x-inputs \n",
    "and y-outputs are always shifted by this one time step:\n",
    "\n",
    "> x: |0,1,2,3,4,...]  \n",
    "> y: |-,0,1,2,3,4,...]\n",
    "\n",
    "The first time step of the prediction y_pred corresponds to time step nr. _shift + pred_sync_steps + 1_ of the simulated data:\n",
    "\n",
    "> \"shift\": the 10000 time steps we shifted the prediction input x_pred by in cell \n",
    "> [7]  \n",
    "> \"+ pred_sync_steps\": the time steps used to synchronize the reservoir before the \n",
    "> prediction starts  \n",
    "> \"+ 1\": the one time step resulting from the above explained shift of x and y by 1\n",
    "\n",
    "Prove that this is true:"
   ],
   "metadata": {
    "collapsed": false
   }
  },
  {
   "cell_type": "code",
   "execution_count": null,
   "outputs": [],
   "source": [
    "np.array_equal(sim_data[shift + pred_sync_steps + 1], y_test[0])"
   ],
   "metadata": {
    "collapsed": false,
    "pycharm": {
     "name": "#%%\n"
    }
   }
  },
  {
   "cell_type": "markdown",
   "source": [
    "We can now define the correct time step range for the plot, starting at   \n",
    "\n",
    "> shift + pred_sync_steps + 1  \n",
    "\n",
    "and ending at\n",
    "\n",
    "> shift + pred_sync_steps + pred_steps + 1  "
   ],
   "metadata": {
    "collapsed": false,
    "pycharm": {
     "name": "#%% md\n"
    }
   }
  },
  {
   "cell_type": "code",
   "execution_count": null,
   "outputs": [],
   "source": [
    "time_step_range = np.arange(shift + pred_sync_steps + 1, shift + pred_sync_steps + pred_steps + 1)"
   ],
   "metadata": {
    "collapsed": false,
    "pycharm": {
     "name": "#%%\n"
    }
   }
  },
  {
   "cell_type": "markdown",
   "source": [
    "Now, let's plot the prediction again, this time with the correct time steps on the axis"
   ],
   "metadata": {
    "collapsed": false
   }
  },
  {
   "cell_type": "code",
   "execution_count": null,
   "outputs": [],
   "source": [
    "fig1 = plt.figure(figsize=(9, 6), dpi=300)\n",
    "ax1 = fig1.add_subplot(1, 1, 1)\n",
    "ax1.plot(time_step_range, y_test[:, 0], color=\"blue\", label=\"simulation\")\n",
    "ax1.plot(time_step_range, y_pred[:, 0], color=\"orange\", linestyle=\"--\", label=\"prediction\")\n",
    "\n",
    "ax1.set_xlabel(\"time steps\")\n",
    "ax1.set_ylabel(\"x\")\n",
    "ax1.set_title(\"X-Coordinates of Simulation and Prediction, Correctly Specified Time Steps\")\n",
    "plt.legend()\n",
    "plt.show()"
   ],
   "metadata": {
    "collapsed": false,
    "pycharm": {
     "name": "#%%\n"
    }
   }
  },
  {
   "cell_type": "markdown",
   "source": [
    "Let's do another prediction, this time after 15000 time steps:"
   ],
   "metadata": {
    "collapsed": false
   }
  },
  {
   "cell_type": "code",
   "execution_count": null,
   "outputs": [],
   "source": [
    "shift2 = 15000\n",
    "x_pred2 = sim_data[shift2:]\n",
    "y_pred2, y_test2 = esn.predict(x_pred=x_pred2, sync_steps=pred_sync_steps, pred_steps=pred_steps)\n",
    "\n",
    "time_step_range2 = np.arange(shift2 + pred_sync_steps + 1, shift2 + pred_sync_steps + pred_steps + 1)"
   ],
   "metadata": {
    "collapsed": false,
    "pycharm": {
     "name": "#%% \n"
    }
   }
  },
  {
   "cell_type": "markdown",
   "source": [
    "Note that we do not need to re-_train_ our reservoir if we want to predict the\n",
    "same system from a different starting point again. We do need to _synchronize_ \n",
    "it every time though."
   ],
   "metadata": {
    "collapsed": false
   }
  },
  {
   "cell_type": "markdown",
   "source": [
    "Plot the second prediction, again with the appropriately shifted time-step-axis."
   ],
   "metadata": {
    "collapsed": false
   }
  },
  {
   "cell_type": "code",
   "execution_count": null,
   "outputs": [],
   "source": [
    "fig2 = plt.figure(figsize=(9, 6), dpi=300)\n",
    "ax2 = fig2.add_subplot(1, 1, 1)\n",
    "ax2.plot(time_step_range2, y_test2[:, 0], color=\"blue\", label=\"simulation\")\n",
    "ax2.plot(time_step_range2, y_pred2[:, 0], color=\"orange\", linestyle=\"--\", label=\"prediction\")\n",
    "\n",
    "ax2.set_xlabel(\"time steps\")\n",
    "ax2.set_ylabel(\"x\")\n",
    "ax2.set_title(\"X-Coordinates of Simulation and Prediction, Correctly Specified Time Steps\")\n",
    "plt.legend()\n",
    "plt.show()"
   ],
   "metadata": {
    "collapsed": false,
    "pycharm": {
     "name": "#%%\n"
    }
   }
  }
 ],
 "metadata": {
  "kernelspec": {
   "display_name": "Python 3",
   "language": "python",
   "name": "python3"
  },
  "language_info": {
   "codemirror_mode": {
    "name": "ipython",
    "version": 2
   },
   "file_extension": ".py",
   "mimetype": "text/x-python",
   "name": "python",
   "nbconvert_exporter": "python",
   "pygments_lexer": "ipython2",
   "version": "2.7.6"
  }
 },
 "nbformat": 4,
 "nbformat_minor": 0
}